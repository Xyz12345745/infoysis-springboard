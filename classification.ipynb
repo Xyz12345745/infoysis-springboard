{
 "cells": [
  {
   "cell_type": "code",
   "execution_count": 1,
   "id": "48d99821-2293-4fcd-8914-09b51f1a050a",
   "metadata": {},
   "outputs": [
    {
     "name": "stdout",
     "output_type": "stream",
     "text": [
      "Collecting ultralytics\n",
      "  Downloading ultralytics-8.3.76-py3-none-any.whl.metadata (35 kB)\n",
      "Collecting numpy<=2.1.1,>=1.23.0 (from ultralytics)\n",
      "  Downloading numpy-2.1.1-cp313-cp313-win_amd64.whl.metadata (59 kB)\n",
      "Collecting matplotlib>=3.3.0 (from ultralytics)\n",
      "  Downloading matplotlib-3.10.0-cp313-cp313-win_amd64.whl.metadata (11 kB)\n",
      "Collecting opencv-python>=4.6.0 (from ultralytics)\n",
      "  Downloading opencv_python-4.11.0.86-cp37-abi3-win_amd64.whl.metadata (20 kB)\n",
      "Collecting pillow>=7.1.2 (from ultralytics)\n",
      "  Downloading pillow-11.1.0-cp313-cp313-win_amd64.whl.metadata (9.3 kB)\n",
      "Requirement already satisfied: pyyaml>=5.3.1 in c:\\users\\admin\\appdata\\local\\programs\\python\\python313\\lib\\site-packages (from ultralytics) (6.0.2)\n",
      "Requirement already satisfied: requests>=2.23.0 in c:\\users\\admin\\appdata\\local\\programs\\python\\python313\\lib\\site-packages (from ultralytics) (2.32.3)\n",
      "Collecting scipy>=1.4.1 (from ultralytics)\n",
      "  Downloading scipy-1.15.2-cp313-cp313-win_amd64.whl.metadata (60 kB)\n",
      "Collecting torch>=1.8.0 (from ultralytics)\n",
      "  Downloading torch-2.6.0-cp313-cp313-win_amd64.whl.metadata (28 kB)\n",
      "Collecting torchvision>=0.9.0 (from ultralytics)\n",
      "  Downloading torchvision-0.21.0-cp313-cp313-win_amd64.whl.metadata (6.3 kB)\n",
      "Collecting tqdm>=4.64.0 (from ultralytics)\n",
      "  Downloading tqdm-4.67.1-py3-none-any.whl.metadata (57 kB)\n",
      "Requirement already satisfied: psutil in c:\\users\\admin\\appdata\\local\\programs\\python\\python313\\lib\\site-packages (from ultralytics) (7.0.0)\n",
      "Collecting py-cpuinfo (from ultralytics)\n",
      "  Downloading py_cpuinfo-9.0.0-py3-none-any.whl.metadata (794 bytes)\n",
      "Collecting pandas>=1.1.4 (from ultralytics)\n",
      "  Downloading pandas-2.2.3-cp313-cp313-win_amd64.whl.metadata (19 kB)\n",
      "Collecting seaborn>=0.11.0 (from ultralytics)\n",
      "  Downloading seaborn-0.13.2-py3-none-any.whl.metadata (5.4 kB)\n",
      "Collecting ultralytics-thop>=2.0.0 (from ultralytics)\n",
      "  Downloading ultralytics_thop-2.0.14-py3-none-any.whl.metadata (9.4 kB)\n",
      "Collecting contourpy>=1.0.1 (from matplotlib>=3.3.0->ultralytics)\n",
      "  Downloading contourpy-1.3.1-cp313-cp313-win_amd64.whl.metadata (5.4 kB)\n",
      "Collecting cycler>=0.10 (from matplotlib>=3.3.0->ultralytics)\n",
      "  Downloading cycler-0.12.1-py3-none-any.whl.metadata (3.8 kB)\n",
      "Collecting fonttools>=4.22.0 (from matplotlib>=3.3.0->ultralytics)\n",
      "  Downloading fonttools-4.56.0-cp313-cp313-win_amd64.whl.metadata (103 kB)\n",
      "Collecting kiwisolver>=1.3.1 (from matplotlib>=3.3.0->ultralytics)\n",
      "  Downloading kiwisolver-1.4.8-cp313-cp313-win_amd64.whl.metadata (6.3 kB)\n",
      "Requirement already satisfied: packaging>=20.0 in c:\\users\\admin\\appdata\\local\\programs\\python\\python313\\lib\\site-packages (from matplotlib>=3.3.0->ultralytics) (24.2)\n",
      "Collecting pyparsing>=2.3.1 (from matplotlib>=3.3.0->ultralytics)\n",
      "  Downloading pyparsing-3.2.1-py3-none-any.whl.metadata (5.0 kB)\n",
      "Requirement already satisfied: python-dateutil>=2.7 in c:\\users\\admin\\appdata\\local\\programs\\python\\python313\\lib\\site-packages (from matplotlib>=3.3.0->ultralytics) (2.9.0.post0)\n",
      "Collecting pytz>=2020.1 (from pandas>=1.1.4->ultralytics)\n",
      "  Downloading pytz-2025.1-py2.py3-none-any.whl.metadata (22 kB)\n",
      "Collecting tzdata>=2022.7 (from pandas>=1.1.4->ultralytics)\n",
      "  Downloading tzdata-2025.1-py2.py3-none-any.whl.metadata (1.4 kB)\n",
      "Requirement already satisfied: charset-normalizer<4,>=2 in c:\\users\\admin\\appdata\\local\\programs\\python\\python313\\lib\\site-packages (from requests>=2.23.0->ultralytics) (3.4.1)\n",
      "Requirement already satisfied: idna<4,>=2.5 in c:\\users\\admin\\appdata\\local\\programs\\python\\python313\\lib\\site-packages (from requests>=2.23.0->ultralytics) (3.10)\n",
      "Requirement already satisfied: urllib3<3,>=1.21.1 in c:\\users\\admin\\appdata\\local\\programs\\python\\python313\\lib\\site-packages (from requests>=2.23.0->ultralytics) (2.3.0)\n",
      "Requirement already satisfied: certifi>=2017.4.17 in c:\\users\\admin\\appdata\\local\\programs\\python\\python313\\lib\\site-packages (from requests>=2.23.0->ultralytics) (2025.1.31)\n",
      "Collecting filelock (from torch>=1.8.0->ultralytics)\n",
      "  Downloading filelock-3.17.0-py3-none-any.whl.metadata (2.9 kB)\n",
      "Requirement already satisfied: typing-extensions>=4.10.0 in c:\\users\\admin\\appdata\\local\\programs\\python\\python313\\lib\\site-packages (from torch>=1.8.0->ultralytics) (4.12.2)\n",
      "Collecting networkx (from torch>=1.8.0->ultralytics)\n",
      "  Downloading networkx-3.4.2-py3-none-any.whl.metadata (6.3 kB)\n",
      "Requirement already satisfied: jinja2 in c:\\users\\admin\\appdata\\local\\programs\\python\\python313\\lib\\site-packages (from torch>=1.8.0->ultralytics) (3.1.5)\n",
      "Collecting fsspec (from torch>=1.8.0->ultralytics)\n",
      "  Downloading fsspec-2025.2.0-py3-none-any.whl.metadata (11 kB)\n",
      "Requirement already satisfied: setuptools in c:\\users\\admin\\appdata\\local\\programs\\python\\python313\\lib\\site-packages (from torch>=1.8.0->ultralytics) (75.8.0)\n",
      "Collecting sympy==1.13.1 (from torch>=1.8.0->ultralytics)\n",
      "  Downloading sympy-1.13.1-py3-none-any.whl.metadata (12 kB)\n",
      "Collecting mpmath<1.4,>=1.1.0 (from sympy==1.13.1->torch>=1.8.0->ultralytics)\n",
      "  Downloading mpmath-1.3.0-py3-none-any.whl.metadata (8.6 kB)\n",
      "Requirement already satisfied: colorama in c:\\users\\admin\\appdata\\local\\programs\\python\\python313\\lib\\site-packages (from tqdm>=4.64.0->ultralytics) (0.4.6)\n",
      "Requirement already satisfied: six>=1.5 in c:\\users\\admin\\appdata\\local\\programs\\python\\python313\\lib\\site-packages (from python-dateutil>=2.7->matplotlib>=3.3.0->ultralytics) (1.17.0)\n",
      "Requirement already satisfied: MarkupSafe>=2.0 in c:\\users\\admin\\appdata\\local\\programs\\python\\python313\\lib\\site-packages (from jinja2->torch>=1.8.0->ultralytics) (3.0.2)\n",
      "Downloading ultralytics-8.3.76-py3-none-any.whl (915 kB)\n",
      "   ---------------------------------------- 0.0/915.2 kB ? eta -:--:--\n",
      "   --------------------------------------- 915.2/915.2 kB 13.3 MB/s eta 0:00:00\n",
      "Downloading matplotlib-3.10.0-cp313-cp313-win_amd64.whl (8.0 MB)\n",
      "   ---------------------------------------- 0.0/8.0 MB ? eta -:--:--\n",
      "   ------------- -------------------------- 2.6/8.0 MB 11.8 MB/s eta 0:00:01\n",
      "   --------------------------- ------------ 5.5/8.0 MB 12.5 MB/s eta 0:00:01\n",
      "   ---------------------------------------  7.9/8.0 MB 12.3 MB/s eta 0:00:01\n",
      "   ---------------------------------------- 8.0/8.0 MB 11.8 MB/s eta 0:00:00\n",
      "Downloading numpy-2.1.1-cp313-cp313-win_amd64.whl (12.6 MB)\n",
      "   ---------------------------------------- 0.0/12.6 MB ? eta -:--:--\n",
      "   --------- ------------------------------ 2.9/12.6 MB 13.2 MB/s eta 0:00:01\n",
      "   ----------------- ---------------------- 5.5/12.6 MB 12.7 MB/s eta 0:00:01\n",
      "   ------------------------- -------------- 8.1/12.6 MB 12.5 MB/s eta 0:00:01\n",
      "   ---------------------------------- ----- 10.7/12.6 MB 12.5 MB/s eta 0:00:01\n",
      "   ---------------------------------------- 12.6/12.6 MB 12.0 MB/s eta 0:00:00\n",
      "Downloading opencv_python-4.11.0.86-cp37-abi3-win_amd64.whl (39.5 MB)\n",
      "   ---------------------------------------- 0.0/39.5 MB ? eta -:--:--\n",
      "   -- ------------------------------------- 2.6/39.5 MB 12.9 MB/s eta 0:00:03\n",
      "   ----- ---------------------------------- 5.2/39.5 MB 12.5 MB/s eta 0:00:03\n",
      "   ------- -------------------------------- 7.9/39.5 MB 12.4 MB/s eta 0:00:03\n",
      "   ---------- ----------------------------- 10.5/39.5 MB 12.4 MB/s eta 0:00:03\n",
      "   ------------- -------------------------- 13.1/39.5 MB 12.4 MB/s eta 0:00:03\n",
      "   ---------------- ----------------------- 16.0/39.5 MB 12.4 MB/s eta 0:00:02\n",
      "   ------------------ --------------------- 18.6/39.5 MB 12.3 MB/s eta 0:00:02\n",
      "   --------------------- ------------------ 21.2/39.5 MB 12.3 MB/s eta 0:00:02\n",
      "   ----------------------- ---------------- 23.6/39.5 MB 12.3 MB/s eta 0:00:02\n",
      "   -------------------------- ------------- 26.5/39.5 MB 12.3 MB/s eta 0:00:02\n",
      "   ----------------------------- ---------- 29.1/39.5 MB 12.3 MB/s eta 0:00:01\n",
      "   -------------------------------- ------- 31.7/39.5 MB 12.3 MB/s eta 0:00:01\n",
      "   ---------------------------------- ----- 33.8/39.5 MB 12.3 MB/s eta 0:00:01\n",
      "   ------------------------------------ --- 36.4/39.5 MB 12.3 MB/s eta 0:00:01\n",
      "   ---------------------------------------  39.1/39.5 MB 12.3 MB/s eta 0:00:01\n",
      "   ---------------------------------------- 39.5/39.5 MB 12.0 MB/s eta 0:00:00\n",
      "Downloading pandas-2.2.3-cp313-cp313-win_amd64.whl (11.5 MB)\n",
      "   ---------------------------------------- 0.0/11.5 MB ? eta -:--:--\n",
      "   ---------- ----------------------------- 2.9/11.5 MB 12.9 MB/s eta 0:00:01\n",
      "   ------------------ --------------------- 5.2/11.5 MB 12.7 MB/s eta 0:00:01\n",
      "   ---------------------------- ----------- 8.1/11.5 MB 12.6 MB/s eta 0:00:01\n",
      "   ------------------------------------ --- 10.5/11.5 MB 12.5 MB/s eta 0:00:01\n",
      "   ---------------------------------------- 11.5/11.5 MB 11.7 MB/s eta 0:00:00\n",
      "Downloading pillow-11.1.0-cp313-cp313-win_amd64.whl (2.6 MB)\n",
      "   ---------------------------------------- 0.0/2.6 MB ? eta -:--:--\n",
      "   ---------------------------------------- 2.6/2.6 MB 12.0 MB/s eta 0:00:00\n",
      "Downloading scipy-1.15.2-cp313-cp313-win_amd64.whl (41.0 MB)\n",
      "   ---------------------------------------- 0.0/41.0 MB ? eta -:--:--\n",
      "   -- ------------------------------------- 2.9/41.0 MB 12.4 MB/s eta 0:00:04\n",
      "   ----- ---------------------------------- 5.2/41.0 MB 12.5 MB/s eta 0:00:03\n",
      "   ------- -------------------------------- 7.9/41.0 MB 12.4 MB/s eta 0:00:03\n",
      "   ---------- ----------------------------- 10.5/41.0 MB 12.4 MB/s eta 0:00:03\n",
      "   ------------ --------------------------- 13.1/41.0 MB 12.4 MB/s eta 0:00:03\n",
      "   --------------- ------------------------ 15.7/41.0 MB 12.3 MB/s eta 0:00:03\n",
      "   ------------------ --------------------- 19.1/41.0 MB 12.4 MB/s eta 0:00:02\n",
      "   -------------------- ------------------- 21.5/41.0 MB 12.4 MB/s eta 0:00:02\n",
      "   ----------------------- ---------------- 24.1/41.0 MB 12.4 MB/s eta 0:00:02\n",
      "   -------------------------- ------------- 26.7/41.0 MB 12.4 MB/s eta 0:00:02\n",
      "   ---------------------------- ----------- 29.1/41.0 MB 12.4 MB/s eta 0:00:01\n",
      "   ------------------------------ --------- 31.7/41.0 MB 12.4 MB/s eta 0:00:01\n",
      "   --------------------------------- ------ 34.6/41.0 MB 12.4 MB/s eta 0:00:01\n",
      "   ------------------------------------ --- 37.0/41.0 MB 12.4 MB/s eta 0:00:01\n",
      "   -------------------------------------- - 39.6/41.0 MB 12.4 MB/s eta 0:00:01\n",
      "   ---------------------------------------- 41.0/41.0 MB 12.0 MB/s eta 0:00:00\n",
      "Downloading seaborn-0.13.2-py3-none-any.whl (294 kB)\n",
      "Downloading torch-2.6.0-cp313-cp313-win_amd64.whl (204.1 MB)\n",
      "   ---------------------------------------- 0.0/204.1 MB ? eta -:--:--\n",
      "    --------------------------------------- 2.6/204.1 MB 12.7 MB/s eta 0:00:16\n",
      "   - -------------------------------------- 5.5/204.1 MB 12.7 MB/s eta 0:00:16\n",
      "   - -------------------------------------- 8.1/204.1 MB 12.6 MB/s eta 0:00:16\n",
      "   -- ------------------------------------- 10.5/204.1 MB 12.5 MB/s eta 0:00:16\n",
      "   -- ------------------------------------- 13.1/204.1 MB 12.4 MB/s eta 0:00:16\n",
      "   --- ------------------------------------ 15.5/204.1 MB 12.5 MB/s eta 0:00:16\n",
      "   --- ------------------------------------ 18.1/204.1 MB 12.4 MB/s eta 0:00:16\n",
      "   --- ------------------------------------ 19.4/204.1 MB 12.4 MB/s eta 0:00:15\n",
      "   ---- ----------------------------------- 23.3/204.1 MB 12.4 MB/s eta 0:00:15\n",
      "   ----- ---------------------------------- 26.0/204.1 MB 12.4 MB/s eta 0:00:15\n",
      "   ----- ---------------------------------- 28.6/204.1 MB 12.4 MB/s eta 0:00:15\n",
      "   ------ --------------------------------- 31.2/204.1 MB 12.4 MB/s eta 0:00:14\n",
      "   ------ --------------------------------- 33.8/204.1 MB 12.4 MB/s eta 0:00:14\n",
      "   ------- -------------------------------- 36.4/204.1 MB 12.4 MB/s eta 0:00:14\n",
      "   ------- -------------------------------- 38.8/204.1 MB 12.4 MB/s eta 0:00:14\n",
      "   -------- ------------------------------- 41.4/204.1 MB 12.4 MB/s eta 0:00:14\n",
      "   -------- ------------------------------- 44.3/204.1 MB 12.4 MB/s eta 0:00:13\n",
      "   --------- ------------------------------ 46.9/204.1 MB 12.4 MB/s eta 0:00:13\n",
      "   --------- ------------------------------ 49.3/204.1 MB 12.4 MB/s eta 0:00:13\n",
      "   ---------- ----------------------------- 51.6/204.1 MB 12.4 MB/s eta 0:00:13\n",
      "   ---------- ----------------------------- 54.5/204.1 MB 12.4 MB/s eta 0:00:13\n",
      "   ----------- ---------------------------- 57.1/204.1 MB 12.4 MB/s eta 0:00:12\n",
      "   ----------- ---------------------------- 59.8/204.1 MB 12.4 MB/s eta 0:00:12\n",
      "   ------------ --------------------------- 62.1/204.1 MB 12.4 MB/s eta 0:00:12\n",
      "   ------------ --------------------------- 65.0/204.1 MB 12.4 MB/s eta 0:00:12\n",
      "   ------------- -------------------------- 67.6/204.1 MB 12.4 MB/s eta 0:00:12\n",
      "   ------------- -------------------------- 70.3/204.1 MB 12.4 MB/s eta 0:00:11\n",
      "   -------------- ------------------------- 72.9/204.1 MB 12.4 MB/s eta 0:00:11\n",
      "   -------------- ------------------------- 75.8/204.1 MB 12.4 MB/s eta 0:00:11\n",
      "   --------------- ------------------------ 78.4/204.1 MB 12.4 MB/s eta 0:00:11\n",
      "   --------------- ------------------------ 81.0/204.1 MB 12.4 MB/s eta 0:00:10\n",
      "   ---------------- ----------------------- 83.9/204.1 MB 12.4 MB/s eta 0:00:10\n",
      "   ---------------- ----------------------- 86.2/204.1 MB 12.4 MB/s eta 0:00:10\n",
      "   ----------------- ---------------------- 88.9/204.1 MB 12.4 MB/s eta 0:00:10\n",
      "   ----------------- ---------------------- 91.2/204.1 MB 12.4 MB/s eta 0:00:10\n",
      "   ------------------ --------------------- 93.8/204.1 MB 12.4 MB/s eta 0:00:09\n",
      "   ------------------ --------------------- 96.5/204.1 MB 12.4 MB/s eta 0:00:09\n",
      "   ------------------- -------------------- 99.1/204.1 MB 12.4 MB/s eta 0:00:09\n",
      "   ------------------- ------------------- 101.4/204.1 MB 12.4 MB/s eta 0:00:09\n",
      "   ------------------- ------------------- 104.1/204.1 MB 12.4 MB/s eta 0:00:09\n",
      "   -------------------- ------------------ 106.7/204.1 MB 12.4 MB/s eta 0:00:08\n",
      "   -------------------- ------------------ 109.3/204.1 MB 12.4 MB/s eta 0:00:08\n",
      "   --------------------- ----------------- 111.9/204.1 MB 12.4 MB/s eta 0:00:08\n",
      "   --------------------- ----------------- 114.6/204.1 MB 12.4 MB/s eta 0:00:08\n",
      "   ---------------------- ---------------- 117.2/204.1 MB 12.4 MB/s eta 0:00:08\n",
      "   ---------------------- ---------------- 119.8/204.1 MB 12.4 MB/s eta 0:00:07\n",
      "   ----------------------- --------------- 122.2/204.1 MB 12.4 MB/s eta 0:00:07\n",
      "   ----------------------- --------------- 125.0/204.1 MB 12.4 MB/s eta 0:00:07\n",
      "   ------------------------ -------------- 127.4/204.1 MB 12.4 MB/s eta 0:00:07\n",
      "   ------------------------ -------------- 130.0/204.1 MB 12.4 MB/s eta 0:00:06\n",
      "   ------------------------- ------------- 132.6/204.1 MB 12.4 MB/s eta 0:00:06\n",
      "   ------------------------- ------------- 135.3/204.1 MB 12.4 MB/s eta 0:00:06\n",
      "   -------------------------- ------------ 137.6/204.1 MB 12.4 MB/s eta 0:00:06\n",
      "   -------------------------- ------------ 140.2/204.1 MB 12.4 MB/s eta 0:00:06\n",
      "   --------------------------- ----------- 142.9/204.1 MB 12.4 MB/s eta 0:00:05\n",
      "   --------------------------- ----------- 145.5/204.1 MB 12.4 MB/s eta 0:00:05\n",
      "   ---------------------------- ---------- 148.1/204.1 MB 12.4 MB/s eta 0:00:05\n",
      "   ---------------------------- ---------- 150.7/204.1 MB 12.4 MB/s eta 0:00:05\n",
      "   ----------------------------- --------- 153.4/204.1 MB 12.4 MB/s eta 0:00:05\n",
      "   ----------------------------- --------- 156.0/204.1 MB 12.4 MB/s eta 0:00:04\n",
      "   ------------------------------ -------- 158.6/204.1 MB 12.4 MB/s eta 0:00:04\n",
      "   ------------------------------ -------- 161.5/204.1 MB 12.4 MB/s eta 0:00:04\n",
      "   ------------------------------- ------- 164.1/204.1 MB 12.4 MB/s eta 0:00:04\n",
      "   ------------------------------- ------- 166.7/204.1 MB 12.4 MB/s eta 0:00:04\n",
      "   -------------------------------- ------ 169.1/204.1 MB 12.4 MB/s eta 0:00:03\n",
      "   -------------------------------- ------ 171.7/204.1 MB 12.4 MB/s eta 0:00:03\n",
      "   --------------------------------- ----- 174.6/204.1 MB 12.4 MB/s eta 0:00:03\n",
      "   --------------------------------- ----- 177.2/204.1 MB 12.4 MB/s eta 0:00:03\n",
      "   ---------------------------------- ---- 179.8/204.1 MB 12.4 MB/s eta 0:00:02\n",
      "   ---------------------------------- ---- 182.5/204.1 MB 12.4 MB/s eta 0:00:02\n",
      "   ----------------------------------- --- 185.1/204.1 MB 12.4 MB/s eta 0:00:02\n",
      "   ----------------------------------- --- 187.7/204.1 MB 12.4 MB/s eta 0:00:02\n",
      "   ------------------------------------ -- 190.3/204.1 MB 12.4 MB/s eta 0:00:02\n",
      "   ------------------------------------ -- 192.9/204.1 MB 12.4 MB/s eta 0:00:01\n",
      "   ------------------------------------- - 195.6/204.1 MB 12.4 MB/s eta 0:00:01\n",
      "   ------------------------------------- - 198.2/204.1 MB 12.4 MB/s eta 0:00:01\n",
      "   --------------------------------------  200.8/204.1 MB 12.4 MB/s eta 0:00:01\n",
      "   --------------------------------------  203.4/204.1 MB 12.4 MB/s eta 0:00:01\n",
      "   --------------------------------------  203.9/204.1 MB 12.4 MB/s eta 0:00:01\n",
      "   --------------------------------------  203.9/204.1 MB 12.4 MB/s eta 0:00:01\n",
      "   --------------------------------------- 204.1/204.1 MB 12.0 MB/s eta 0:00:00\n",
      "Downloading sympy-1.13.1-py3-none-any.whl (6.2 MB)\n",
      "   ---------------------------------------- 0.0/6.2 MB ? eta -:--:--\n",
      "   ------------------ --------------------- 2.9/6.2 MB 14.0 MB/s eta 0:00:01\n",
      "   --------------------------------- ------ 5.2/6.2 MB 13.2 MB/s eta 0:00:01\n",
      "   ---------------------------------------- 6.2/6.2 MB 11.9 MB/s eta 0:00:00\n",
      "Downloading torchvision-0.21.0-cp313-cp313-win_amd64.whl (1.6 MB)\n",
      "   ---------------------------------------- 0.0/1.6 MB ? eta -:--:--\n",
      "   ---------------------------------------- 1.6/1.6 MB 12.6 MB/s eta 0:00:00\n",
      "Downloading tqdm-4.67.1-py3-none-any.whl (78 kB)\n",
      "Downloading ultralytics_thop-2.0.14-py3-none-any.whl (26 kB)\n",
      "Downloading py_cpuinfo-9.0.0-py3-none-any.whl (22 kB)\n",
      "Downloading contourpy-1.3.1-cp313-cp313-win_amd64.whl (220 kB)\n",
      "Downloading cycler-0.12.1-py3-none-any.whl (8.3 kB)\n",
      "Downloading fonttools-4.56.0-cp313-cp313-win_amd64.whl (2.2 MB)\n",
      "   ---------------------------------------- 0.0/2.2 MB ? eta -:--:--\n",
      "   ---------------------------------------- 2.2/2.2 MB 11.8 MB/s eta 0:00:00\n",
      "Downloading kiwisolver-1.4.8-cp313-cp313-win_amd64.whl (71 kB)\n",
      "Downloading pyparsing-3.2.1-py3-none-any.whl (107 kB)\n",
      "Downloading pytz-2025.1-py2.py3-none-any.whl (507 kB)\n",
      "Downloading tzdata-2025.1-py2.py3-none-any.whl (346 kB)\n",
      "Downloading filelock-3.17.0-py3-none-any.whl (16 kB)\n",
      "Downloading fsspec-2025.2.0-py3-none-any.whl (184 kB)\n",
      "Downloading networkx-3.4.2-py3-none-any.whl (1.7 MB)\n",
      "   ---------------------------------------- 0.0/1.7 MB ? eta -:--:--\n",
      "   ---------------------------------------- 1.7/1.7 MB 11.4 MB/s eta 0:00:00\n",
      "Downloading mpmath-1.3.0-py3-none-any.whl (536 kB)\n",
      "   ---------------------------------------- 0.0/536.2 kB ? eta -:--:--\n",
      "   --------------------------------------- 536.2/536.2 kB 11.4 MB/s eta 0:00:00\n",
      "Installing collected packages: pytz, py-cpuinfo, mpmath, tzdata, tqdm, sympy, pyparsing, pillow, numpy, networkx, kiwisolver, fsspec, fonttools, filelock, cycler, torch, scipy, pandas, opencv-python, contourpy, ultralytics-thop, torchvision, matplotlib, seaborn, ultralytics\n",
      "Successfully installed contourpy-1.3.1 cycler-0.12.1 filelock-3.17.0 fonttools-4.56.0 fsspec-2025.2.0 kiwisolver-1.4.8 matplotlib-3.10.0 mpmath-1.3.0 networkx-3.4.2 numpy-2.1.1 opencv-python-4.11.0.86 pandas-2.2.3 pillow-11.1.0 py-cpuinfo-9.0.0 pyparsing-3.2.1 pytz-2025.1 scipy-1.15.2 seaborn-0.13.2 sympy-1.13.1 torch-2.6.0 torchvision-0.21.0 tqdm-4.67.1 tzdata-2025.1 ultralytics-8.3.76 ultralytics-thop-2.0.14\n"
     ]
    },
    {
     "name": "stderr",
     "output_type": "stream",
     "text": [
      "\n",
      "[notice] A new release of pip is available: 24.3.1 -> 25.0.1\n",
      "[notice] To update, run: python.exe -m pip install --upgrade pip\n"
     ]
    }
   ],
   "source": [
    "!pip install ultralytics"
   ]
  },
  {
   "cell_type": "code",
   "execution_count": 2,
   "id": "a183e9bd-30a0-439b-8d6b-7bb9d30a73df",
   "metadata": {},
   "outputs": [
    {
     "name": "stdout",
     "output_type": "stream",
     "text": [
      "Creating new Ultralytics Settings v0.0.6 file  \n",
      "View Ultralytics Settings with 'yolo settings' or at 'C:\\Users\\Admin\\AppData\\Roaming\\Ultralytics\\settings.json'\n",
      "Update Settings with 'yolo settings key=value', i.e. 'yolo settings runs_dir=path/to/dir'. For help see https://docs.ultralytics.com/quickstart/#ultralytics-settings.\n"
     ]
    }
   ],
   "source": [
    "from ultralytics import YOLO"
   ]
  },
  {
   "cell_type": "code",
   "execution_count": 3,
   "id": "ae5e6e53-edb2-446c-a037-a46185f48f20",
   "metadata": {},
   "outputs": [
    {
     "name": "stdout",
     "output_type": "stream",
     "text": [
      "Downloading https://github.com/ultralytics/assets/releases/download/v8.3.0/yolo11n-cls.pt to 'yolo11n-cls.pt'...\n"
     ]
    },
    {
     "name": "stderr",
     "output_type": "stream",
     "text": [
      "100%|█████████████████████████████████████████████████████████████████████████████| 5.52M/5.52M [00:00<00:00, 10.1MB/s]\n"
     ]
    }
   ],
   "source": [
    "model = YOLO(\"yolo11n-cls.pt\")"
   ]
  },
  {
   "cell_type": "code",
   "execution_count": 4,
   "id": "a9f2542f-2b0a-4c1b-b84c-7d1a45f2e93a",
   "metadata": {},
   "outputs": [
    {
     "name": "stdout",
     "output_type": "stream",
     "text": [
      "New https://pypi.org/project/ultralytics/8.3.77 available  Update with 'pip install -U ultralytics'\n",
      "Ultralytics 8.3.76  Python-3.13.2 torch-2.6.0+cpu CPU (11th Gen Intel Core(TM) i5-1135G7 2.40GHz)\n",
      "\u001b[34m\u001b[1mengine\\trainer: \u001b[0mtask=classify, mode=train, model=yolo11n-cls.pt, data=C:\\Users\\Admin\\OneDrive\\Desktop\\infosi\\classification\\dataset, epochs=10, time=None, patience=100, batch=8, imgsz=640, save=True, save_period=-1, cache=False, device=None, workers=8, project=None, name=train, exist_ok=False, pretrained=True, optimizer=auto, verbose=True, seed=0, deterministic=True, single_cls=False, rect=False, cos_lr=False, close_mosaic=10, resume=False, amp=True, fraction=1.0, profile=False, freeze=None, multi_scale=False, overlap_mask=True, mask_ratio=4, dropout=0.0, val=True, split=val, save_json=False, save_hybrid=False, conf=None, iou=0.7, max_det=300, half=False, dnn=False, plots=True, source=None, vid_stride=1, stream_buffer=False, visualize=False, augment=False, agnostic_nms=False, classes=None, retina_masks=False, embed=None, show=False, save_frames=False, save_txt=False, save_conf=False, save_crop=False, show_labels=True, show_conf=True, show_boxes=True, line_width=None, format=torchscript, keras=False, optimize=False, int8=False, dynamic=False, simplify=True, opset=None, workspace=None, nms=False, lr0=0.01, lrf=0.01, momentum=0.937, weight_decay=0.0005, warmup_epochs=3.0, warmup_momentum=0.8, warmup_bias_lr=0.1, box=7.5, cls=0.5, dfl=1.5, pose=12.0, kobj=1.0, nbs=64, hsv_h=0.015, hsv_s=0.7, hsv_v=0.4, degrees=0.0, translate=0.1, scale=0.5, shear=0.0, perspective=0.0, flipud=0.0, fliplr=0.5, bgr=0.0, mosaic=1.0, mixup=0.0, copy_paste=0.0, copy_paste_mode=flip, auto_augment=randaugment, erasing=0.4, crop_fraction=1.0, cfg=None, tracker=botsort.yaml, save_dir=runs\\classify\\train\n",
      "\u001b[34m\u001b[1mtrain:\u001b[0m C:\\Users\\Admin\\OneDrive\\Desktop\\infosi\\classification\\dataset\\train... found 695 images in 3 classes: ERROR  requires 2 classes, not 3\n",
      "\u001b[34m\u001b[1mval:\u001b[0m C:\\Users\\Admin\\OneDrive\\Desktop\\infosi\\classification\\dataset\\val... found 192 images in 2 classes  \n",
      "\u001b[34m\u001b[1mtest:\u001b[0m None...\n",
      "Overriding model.yaml nc=80 with nc=2\n",
      "\n",
      "                   from  n    params  module                                       arguments                     \n",
      "  0                  -1  1       464  ultralytics.nn.modules.conv.Conv             [3, 16, 3, 2]                 \n",
      "  1                  -1  1      4672  ultralytics.nn.modules.conv.Conv             [16, 32, 3, 2]                \n",
      "  2                  -1  1      6640  ultralytics.nn.modules.block.C3k2            [32, 64, 1, False, 0.25]      \n",
      "  3                  -1  1     36992  ultralytics.nn.modules.conv.Conv             [64, 64, 3, 2]                \n",
      "  4                  -1  1     26080  ultralytics.nn.modules.block.C3k2            [64, 128, 1, False, 0.25]     \n",
      "  5                  -1  1    147712  ultralytics.nn.modules.conv.Conv             [128, 128, 3, 2]              \n",
      "  6                  -1  1     87040  ultralytics.nn.modules.block.C3k2            [128, 128, 1, True]           \n",
      "  7                  -1  1    295424  ultralytics.nn.modules.conv.Conv             [128, 256, 3, 2]              \n",
      "  8                  -1  1    346112  ultralytics.nn.modules.block.C3k2            [256, 256, 1, True]           \n",
      "  9                  -1  1    249728  ultralytics.nn.modules.block.C2PSA           [256, 256, 1]                 \n",
      " 10                  -1  1    332802  ultralytics.nn.modules.head.Classify         [256, 2]                      \n",
      "YOLO11n-cls summary: 86 layers, 1,533,666 parameters, 1,533,666 gradients, 3.3 GFLOPs\n",
      "Transferred 234/236 items from pretrained weights\n"
     ]
    },
    {
     "name": "stderr",
     "output_type": "stream",
     "text": [
      "\u001b[34m\u001b[1mtrain: \u001b[0mScanning C:\\Users\\Admin\\OneDrive\\Desktop\\infosi\\classification\\dataset\\train... 695 images, 0 corrupt: 100%|████\u001b[0m\n"
     ]
    },
    {
     "name": "stdout",
     "output_type": "stream",
     "text": [
      "\u001b[34m\u001b[1mtrain: \u001b[0mNew cache created: C:\\Users\\Admin\\OneDrive\\Desktop\\infosi\\classification\\dataset\\train.cache\n"
     ]
    },
    {
     "name": "stderr",
     "output_type": "stream",
     "text": [
      "\u001b[34m\u001b[1mval: \u001b[0mScanning C:\\Users\\Admin\\OneDrive\\Desktop\\infosi\\classification\\dataset\\val... 192 images, 0 corrupt: 100%|████████\u001b[0m"
     ]
    },
    {
     "name": "stdout",
     "output_type": "stream",
     "text": [
      "\u001b[34m\u001b[1mval: \u001b[0mNew cache created: C:\\Users\\Admin\\OneDrive\\Desktop\\infosi\\classification\\dataset\\val.cache\n",
      "\u001b[34m\u001b[1moptimizer:\u001b[0m 'optimizer=auto' found, ignoring 'lr0=0.01' and 'momentum=0.937' and determining best 'optimizer', 'lr0' and 'momentum' automatically... \n",
      "\u001b[34m\u001b[1moptimizer:\u001b[0m AdamW(lr=0.001667, momentum=0.9) with parameter groups 39 weight(decay=0.0), 40 weight(decay=0.0005), 40 bias(decay=0.0)\n",
      "Image sizes 640 train, 640 val\n",
      "Using 0 dataloader workers\n",
      "Logging results to \u001b[1mruns\\classify\\train\u001b[0m\n",
      "Starting training for 10 epochs...\n",
      "\n",
      "      Epoch    GPU_mem       loss  Instances       Size\n"
     ]
    },
    {
     "name": "stderr",
     "output_type": "stream",
     "text": [
      "\n",
      "       1/10         0G     0.6708          8        640:   2%|▏         | 2/87 [00:04<03:31,  2.49s/it]"
     ]
    },
    {
     "name": "stdout",
     "output_type": "stream",
     "text": [
      "Downloading https://ultralytics.com/assets/Arial.ttf to 'C:\\Users\\Admin\\AppData\\Roaming\\Ultralytics\\Arial.ttf'...\n"
     ]
    },
    {
     "name": "stderr",
     "output_type": "stream",
     "text": [
      "       1/10         0G     0.7226          8        640:   3%|▎         | 3/87 [00:06<02:59,  2.14s/it]\n",
      "100%|███████████████████████████████████████████████████████████████████████████████| 755k/755k [00:00<00:00, 15.2MB/s]\n",
      "       1/10         0G      0.404          7        640: 100%|██████████| 87/87 [02:48<00:00,  1.93s/it]\n",
      "               classes   top1_acc   top5_acc: 100%|██████████| 12/12 [00:21<00:00,  1.82s/it]"
     ]
    },
    {
     "name": "stdout",
     "output_type": "stream",
     "text": [
      "                   all      0.938          1\n"
     ]
    },
    {
     "name": "stderr",
     "output_type": "stream",
     "text": [
      "\n"
     ]
    },
    {
     "name": "stdout",
     "output_type": "stream",
     "text": [
      "\n",
      "      Epoch    GPU_mem       loss  Instances       Size\n"
     ]
    },
    {
     "name": "stderr",
     "output_type": "stream",
     "text": [
      "       2/10         0G     0.2084          7        640: 100%|██████████| 87/87 [02:47<00:00,  1.92s/it]\n",
      "               classes   top1_acc   top5_acc: 100%|██████████| 12/12 [00:21<00:00,  1.78s/it]"
     ]
    },
    {
     "name": "stdout",
     "output_type": "stream",
     "text": [
      "                   all      0.938          1\n"
     ]
    },
    {
     "name": "stderr",
     "output_type": "stream",
     "text": [
      "\n"
     ]
    },
    {
     "name": "stdout",
     "output_type": "stream",
     "text": [
      "\n",
      "      Epoch    GPU_mem       loss  Instances       Size\n"
     ]
    },
    {
     "name": "stderr",
     "output_type": "stream",
     "text": [
      "       3/10         0G     0.1926          7        640: 100%|██████████| 87/87 [02:47<00:00,  1.93s/it]\n",
      "               classes   top1_acc   top5_acc: 100%|██████████| 12/12 [00:21<00:00,  1.77s/it]"
     ]
    },
    {
     "name": "stdout",
     "output_type": "stream",
     "text": [
      "                   all      0.948          1\n"
     ]
    },
    {
     "name": "stderr",
     "output_type": "stream",
     "text": [
      "\n"
     ]
    },
    {
     "name": "stdout",
     "output_type": "stream",
     "text": [
      "\n",
      "      Epoch    GPU_mem       loss  Instances       Size\n"
     ]
    },
    {
     "name": "stderr",
     "output_type": "stream",
     "text": [
      "       4/10         0G     0.2387          7        640: 100%|██████████| 87/87 [02:48<00:00,  1.93s/it]\n",
      "               classes   top1_acc   top5_acc: 100%|██████████| 12/12 [00:21<00:00,  1.76s/it]"
     ]
    },
    {
     "name": "stdout",
     "output_type": "stream",
     "text": [
      "                   all      0.938          1\n"
     ]
    },
    {
     "name": "stderr",
     "output_type": "stream",
     "text": [
      "\n"
     ]
    },
    {
     "name": "stdout",
     "output_type": "stream",
     "text": [
      "\n",
      "      Epoch    GPU_mem       loss  Instances       Size\n"
     ]
    },
    {
     "name": "stderr",
     "output_type": "stream",
     "text": [
      "       5/10         0G      0.155          7        640: 100%|██████████| 87/87 [03:40<00:00,  2.53s/it]\n",
      "               classes   top1_acc   top5_acc: 100%|██████████| 12/12 [00:35<00:00,  2.94s/it]"
     ]
    },
    {
     "name": "stdout",
     "output_type": "stream",
     "text": [
      "                   all      0.917          1\n"
     ]
    },
    {
     "name": "stderr",
     "output_type": "stream",
     "text": [
      "\n"
     ]
    },
    {
     "name": "stdout",
     "output_type": "stream",
     "text": [
      "\n",
      "      Epoch    GPU_mem       loss  Instances       Size\n"
     ]
    },
    {
     "name": "stderr",
     "output_type": "stream",
     "text": [
      "       6/10         0G     0.1483          7        640: 100%|██████████| 87/87 [04:48<00:00,  3.32s/it]\n",
      "               classes   top1_acc   top5_acc: 100%|██████████| 12/12 [00:38<00:00,  3.18s/it]"
     ]
    },
    {
     "name": "stdout",
     "output_type": "stream",
     "text": [
      "                   all      0.974          1\n"
     ]
    },
    {
     "name": "stderr",
     "output_type": "stream",
     "text": [
      "\n"
     ]
    },
    {
     "name": "stdout",
     "output_type": "stream",
     "text": [
      "\n",
      "      Epoch    GPU_mem       loss  Instances       Size\n"
     ]
    },
    {
     "name": "stderr",
     "output_type": "stream",
     "text": [
      "       7/10         0G     0.1582          7        640: 100%|██████████| 87/87 [04:52<00:00,  3.36s/it]\n",
      "               classes   top1_acc   top5_acc: 100%|██████████| 12/12 [11:44<00:00, 58.71s/it]"
     ]
    },
    {
     "name": "stdout",
     "output_type": "stream",
     "text": [
      "                   all       0.99          1\n"
     ]
    },
    {
     "name": "stderr",
     "output_type": "stream",
     "text": [
      "\n"
     ]
    },
    {
     "name": "stdout",
     "output_type": "stream",
     "text": [
      "\n",
      "      Epoch    GPU_mem       loss  Instances       Size\n"
     ]
    },
    {
     "name": "stderr",
     "output_type": "stream",
     "text": [
      "       8/10         0G    0.07619          7        640: 100%|██████████| 87/87 [12:48<00:00,  8.83s/it]   \n",
      "               classes   top1_acc   top5_acc: 100%|██████████| 12/12 [00:37<00:00,  3.11s/it]"
     ]
    },
    {
     "name": "stdout",
     "output_type": "stream",
     "text": [
      "                   all      0.969          1\n"
     ]
    },
    {
     "name": "stderr",
     "output_type": "stream",
     "text": [
      "\n"
     ]
    },
    {
     "name": "stdout",
     "output_type": "stream",
     "text": [
      "\n",
      "      Epoch    GPU_mem       loss  Instances       Size\n"
     ]
    },
    {
     "name": "stderr",
     "output_type": "stream",
     "text": [
      "       9/10         0G     0.1044          7        640: 100%|██████████| 87/87 [04:50<00:00,  3.34s/it]\n",
      "               classes   top1_acc   top5_acc: 100%|██████████| 12/12 [00:37<00:00,  3.11s/it]"
     ]
    },
    {
     "name": "stdout",
     "output_type": "stream",
     "text": [
      "                   all      0.984          1\n"
     ]
    },
    {
     "name": "stderr",
     "output_type": "stream",
     "text": [
      "\n"
     ]
    },
    {
     "name": "stdout",
     "output_type": "stream",
     "text": [
      "\n",
      "      Epoch    GPU_mem       loss  Instances       Size\n"
     ]
    },
    {
     "name": "stderr",
     "output_type": "stream",
     "text": [
      "      10/10         0G    0.07536          7        640: 100%|██████████| 87/87 [04:51<00:00,  3.35s/it]\n",
      "               classes   top1_acc   top5_acc: 100%|██████████| 12/12 [00:37<00:00,  3.15s/it]"
     ]
    },
    {
     "name": "stdout",
     "output_type": "stream",
     "text": [
      "                   all      0.979          1\n"
     ]
    },
    {
     "name": "stderr",
     "output_type": "stream",
     "text": [
      "\n"
     ]
    },
    {
     "name": "stdout",
     "output_type": "stream",
     "text": [
      "\n",
      "10 epochs completed in 1.057 hours.\n",
      "Optimizer stripped from runs\\classify\\train\\weights\\last.pt, 3.2MB\n",
      "Optimizer stripped from runs\\classify\\train\\weights\\best.pt, 3.2MB\n",
      "\n",
      "Validating runs\\classify\\train\\weights\\best.pt...\n",
      "Ultralytics 8.3.76  Python-3.13.2 torch-2.6.0+cpu CPU (11th Gen Intel Core(TM) i5-1135G7 2.40GHz)\n",
      "YOLO11n-cls summary (fused): 47 layers, 1,528,586 parameters, 0 gradients, 3.2 GFLOPs\n",
      "\u001b[34m\u001b[1mtrain:\u001b[0m C:\\Users\\Admin\\OneDrive\\Desktop\\infosi\\classification\\dataset\\train... found 695 images in 3 classes: ERROR  requires 2 classes, not 3\n",
      "\u001b[34m\u001b[1mval:\u001b[0m C:\\Users\\Admin\\OneDrive\\Desktop\\infosi\\classification\\dataset\\val... found 192 images in 2 classes  \n",
      "\u001b[34m\u001b[1mtest:\u001b[0m None...\n"
     ]
    },
    {
     "name": "stderr",
     "output_type": "stream",
     "text": [
      "               classes   top1_acc   top5_acc: 100%|██████████| 12/12 [00:36<00:00,  3.07s/it]\n"
     ]
    },
    {
     "name": "stdout",
     "output_type": "stream",
     "text": [
      "                   all       0.99          1\n",
      "Speed: 0.0ms preprocess, 56.1ms inference, 0.0ms loss, 0.0ms postprocess per image\n",
      "Results saved to \u001b[1mruns\\classify\\train\u001b[0m\n"
     ]
    }
   ],
   "source": [
    "results = model.train(data=r\"C:\\Users\\Admin\\OneDrive\\Desktop\\infosi\\classification\\dataset\", epochs=10, imgsz=640, batch=8)"
   ]
  },
  {
   "cell_type": "code",
   "execution_count": 5,
   "id": "ed180366-c23b-4938-a3fc-609f1fb142a2",
   "metadata": {},
   "outputs": [],
   "source": [
    "model = YOLO(r\"C:\\Users\\Admin\\OneDrive\\Desktop\\infosi\\classification\\runs\\classify\\train\\weights\\best.pt\")"
   ]
  },
  {
   "cell_type": "code",
   "execution_count": null,
   "id": "47b102ee-5353-4499-9430-2f845acb31ac",
   "metadata": {},
   "outputs": [],
   "source": []
  },
  {
   "cell_type": "code",
   "execution_count": 6,
   "id": "4ae56343-3f4e-41d1-909e-9888c7d92602",
   "metadata": {},
   "outputs": [
    {
     "name": "stdout",
     "output_type": "stream",
     "text": [
      "Ultralytics 8.3.76  Python-3.13.2 torch-2.6.0+cpu CPU (11th Gen Intel Core(TM) i5-1135G7 2.40GHz)\n",
      "YOLO11n-cls summary (fused): 47 layers, 1,528,586 parameters, 0 gradients, 3.2 GFLOPs\n",
      "\u001b[34m\u001b[1mtrain:\u001b[0m C:\\Users\\Admin\\OneDrive\\Desktop\\infosi\\classification\\dataset\\train... found 695 images in 3 classes: ERROR  requires 2 classes, not 3\n",
      "\u001b[34m\u001b[1mval:\u001b[0m C:\\Users\\Admin\\OneDrive\\Desktop\\infosi\\classification\\dataset\\val... found 192 images in 2 classes  \n",
      "\u001b[34m\u001b[1mtest:\u001b[0m None...\n"
     ]
    },
    {
     "name": "stderr",
     "output_type": "stream",
     "text": [
      "\u001b[34m\u001b[1mval: \u001b[0mScanning C:\\Users\\Admin\\OneDrive\\Desktop\\infosi\\classification\\dataset\\val... 192 images, 0 corrupt: 100%|████████\u001b[0m\n",
      "               classes   top1_acc   top5_acc: 100%|██████████| 12/12 [00:41<00:00,  3.47s/it]\n"
     ]
    },
    {
     "name": "stdout",
     "output_type": "stream",
     "text": [
      "                   all       0.99          1\n",
      "Speed: 0.0ms preprocess, 74.8ms inference, 0.0ms loss, 0.0ms postprocess per image\n",
      "Results saved to \u001b[1mruns\\classify\\val\u001b[0m\n"
     ]
    },
    {
     "data": {
      "text/plain": [
       "1.0"
      ]
     },
     "execution_count": 6,
     "metadata": {},
     "output_type": "execute_result"
    }
   ],
   "source": [
    "model = YOLO(r\"C:\\Users\\Admin\\OneDrive\\Desktop\\infosi\\classification\\runs\\classify\\train\\weights\\best.pt\")\n",
    "metrics = model.val()  # no arguments needed, dataset and settings remembered\n",
    "metrics.top1  # top1 accuracy\n",
    "metrics.top5  # top5 accuracy"
   ]
  },
  {
   "cell_type": "code",
   "execution_count": 8,
   "id": "7f03cb17-0b88-49de-92c8-b6018752da01",
   "metadata": {},
   "outputs": [
    {
     "name": "stdout",
     "output_type": "stream",
     "text": [
      "\n",
      "image 1/1 C:\\Users\\Admin\\OneDrive\\Desktop\\infosi\\img.jpg: 640x640 aadhar 1.00, non_aadhar 0.00, 104.8ms\n",
      "Speed: 37.1ms preprocess, 104.8ms inference, 0.1ms postprocess per image at shape (1, 3, 640, 640)\n"
     ]
    }
   ],
   "source": [
    "results = model(r\"C:\\Users\\Admin\\OneDrive\\Desktop\\infosi\\img.jpg\")  # predict on an image"
   ]
  },
  {
   "cell_type": "code",
   "execution_count": 10,
   "id": "5f961f3b-c40b-4bea-b458-c1277b369690",
   "metadata": {},
   "outputs": [
    {
     "name": "stdout",
     "output_type": "stream",
     "text": [
      "\n",
      "image 1/1 C:\\Users\\Admin\\OneDrive\\Desktop\\infosi\\img2.jpeg: 640x640 non_aadhar 1.00, aadhar 0.00, 98.0ms\n",
      "Speed: 44.0ms preprocess, 98.0ms inference, 0.3ms postprocess per image at shape (1, 3, 640, 640)\n"
     ]
    }
   ],
   "source": [
    "results = model(r\"C:\\Users\\Admin\\OneDrive\\Desktop\\infosi\\img2.jpeg\")  # predict on an image"
   ]
  },
  {
   "cell_type": "code",
   "execution_count": null,
   "id": "ac91d3ca-cd1c-4e50-a99b-641ac207ea40",
   "metadata": {},
   "outputs": [],
   "source": []
  }
 ],
 "metadata": {
  "kernelspec": {
   "display_name": "Python 3 (ipykernel)",
   "language": "python",
   "name": "python3"
  },
  "language_info": {
   "codemirror_mode": {
    "name": "ipython",
    "version": 3
   },
   "file_extension": ".py",
   "mimetype": "text/x-python",
   "name": "python",
   "nbconvert_exporter": "python",
   "pygments_lexer": "ipython3",
   "version": "3.13.2"
  }
 },
 "nbformat": 4,
 "nbformat_minor": 5
}
